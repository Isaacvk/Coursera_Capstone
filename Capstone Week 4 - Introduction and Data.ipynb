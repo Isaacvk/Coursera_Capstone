{
    "cells": [
        {
            "metadata": {
                "collapsed": true
            },
            "cell_type": "markdown",
            "source": "## Intoduction: Business Problem"
        },
        {
            "metadata": {},
            "cell_type": "markdown",
            "source": "Berlin is the capital of Germany. Its rich culutre, diverse music scene, and broad prospectus of food and drink locations make the city highly popular with young people and students. Every year over 40 million 20-29 year olds visit Berlin of which nearly 200,000 are foreign students, attracted by the prospect of studying in the most multicultural city in Germany with its 175 museums and over 100 vegan friendly restaurants among other attractions. However, Berlin also has the highest crime rate of any German region with 13,746 per 100,000 people in 2019 - more than double the German average. Thus, for students contemplating studying abroad in Berlin, careful consideration of housing location is important to ensure safety.\n\nThis project will consider the scenario in which a student has decided to study abroad in Berlin for a year, and is trying to determine the best neighborhood to live in during this time. Primarily, the student is concerned with their safety while living abroad and so choosing a district with historically low crime rates is crucial to their decision. Once they have selected a desired district, the student then wishes to select a neighborhood based on criteria including the availability of various venues (food, drink, music etc.) nearby."
        },
        {
            "metadata": {},
            "cell_type": "markdown",
            "source": "## Data"
        },
        {
            "metadata": {},
            "cell_type": "markdown",
            "source": "Based on the students requirements, factors that will influence our decison are: \n* The total number of crimes committed in each of the districts during recent years.\n* The most common venues in each of the neighborhoods in the safest district selected.\n\nThe following data sources will be needed to source the required information:\n* A dataset consisting of the crime statistics from each district of Berlin from 2012-2019 is obtained from Kaggle.\n* More information regarding the districts of Berlin is scraped from a Wikipedia page using the Beautifulsoup library.\n* Neighborhood co-ordinates are obtained/generated using Google Maps API geocoding. \n* The number of venues and their type and location in every neighborhood are obtained using the Foursquare API."
        },
        {
            "metadata": {},
            "cell_type": "code",
            "source": "",
            "execution_count": null,
            "outputs": []
        }
    ],
    "metadata": {
        "kernelspec": {
            "name": "python3",
            "display_name": "Python 3.7",
            "language": "python"
        },
        "language_info": {
            "name": "python",
            "version": "3.7.9",
            "mimetype": "text/x-python",
            "codemirror_mode": {
                "name": "ipython",
                "version": 3
            },
            "pygments_lexer": "ipython3",
            "nbconvert_exporter": "python",
            "file_extension": ".py"
        }
    },
    "nbformat": 4,
    "nbformat_minor": 1
}